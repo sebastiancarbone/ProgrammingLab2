{
 "cells": [
  {
   "cell_type": "markdown",
   "metadata": {},
   "source": [
    "### **1. Trasformare cicli in list comprehension**\n",
    "\n",
    "Fai tre esempi di cicli producono una lista e poi riscrivi lo stesso codice usando la list comprehension"
   ]
  },
  {
   "cell_type": "code",
   "execution_count": 12,
   "metadata": {},
   "outputs": [
    {
     "name": "stdout",
     "output_type": "stream",
     "text": [
      "[0, 1, 4, 9, 16, 25, 36, 49, 64, 81]\n",
      "[0, 2, 4, 6, 8, 10, 12, 14, 16, 18]\n",
      "[4, 5, 6]\n",
      "[0, 1, 4, 9, 16, 25, 36, 49, 64, 81]\n",
      "[0, 2, 4, 6, 8, 10, 12, 14, 16, 18]\n",
      "[4, 5, 6]\n"
     ]
    }
   ],
   "source": [
    "#esempio 1\n",
    "quadrati = []\n",
    "for i in range (10): \n",
    "    quadrati.append(i**2)\n",
    "print(quadrati)\n",
    "\n",
    "#esempio 2\n",
    "numeri_pari = []\n",
    "for i in range (20):\n",
    "    if i % 2 == 0:\n",
    "        numeri_pari.append(i)\n",
    "print(numeri_pari)\n",
    "\n",
    "#esempio 3\n",
    "swords = [\"ciao\", \"mondo\", \"python\"]\n",
    "lengths = []\n",
    "for word in swords:\n",
    "    lengths.append(len(word))\n",
    "print(lengths)\n",
    "\n",
    "#list comprehensions\n",
    "#1\n",
    "quadrati_lc = [i**2 for i in range (10)]\n",
    "print(quadrati_lc)\n",
    "\n",
    "#2\n",
    "num_pari_lc = [i for i in range (20) if i % 2 == 0]\n",
    "print(num_pari_lc)\n",
    "\n",
    "#3\n",
    "lengths_lc = [len(word) for word in swords]\n",
    "print(lengths_lc)\n",
    "\n",
    "\n",
    "\n"
   ]
  },
  {
   "cell_type": "markdown",
   "metadata": {},
   "source": [
    "### **2. Vettore di Numeri Primi**\n",
    "\n",
    "1. **Crea un vettore** contenente tutti i numeri primi compresi tra **0 e 10**  \n",
    "   _(Puoi scriverli direttamente nell'array)._\n",
    "\n",
    "2. **Conta quanti numeri ci sono nel vettore** utilizzando la funzione `len()`.  **Ottieni lo stesso numero** accedendo all'attributo `.size` del vettore.\n",
    "\n",
    "3. Quale pensi sia il tipo di dato (`dtype`) del vettore?  Prova a rispondere senza eseguire il codice e Verifica la tua risposta accedendo all'attributo `.dtype` del vettore\n",
    "\n",
    "4. Scrivi l'array usando una list comprehension che controlla che i numeri siano primi. "
   ]
  },
  {
   "cell_type": "code",
   "execution_count": null,
   "metadata": {},
   "outputs": [
    {
     "name": "stdout",
     "output_type": "stream",
     "text": [
      "4\n",
      "4\n",
      "int64\n",
      "[2 3 5 7]\n"
     ]
    }
   ],
   "source": [
    "import numpy as np\n",
    "num_primi = np.array([2, 3, 5, 7])\n",
    "print(len(num_primi))\n",
    "print (num_primi.size)\n",
    "#i numeri saranno interi, int64.\n",
    "print(num_primi.dtype)  \n",
    "#4\n",
    "def è_primo(n):\n",
    "    if n < 2:\n",
    "        return False\n",
    "    for i in range(2,int (n**0.5)+1):\n",
    "        if n%i == 0:\n",
    "            return False\n",
    "    return True\n",
    "num_primi_lc = np.array([x for x in range(11) if è_primo(x)])\n",
    "print(num_primi)  \n",
    "\n"
   ]
  },
  {
   "cell_type": "markdown",
   "metadata": {},
   "source": [
    "### **3.  Operazioni su array**\n",
    "Crea un array **a**, 1D (senza digitarlo esplicitamente), e genera due nuovi array **b**, contenente una sottostringa a piacere e **c** che è il reverse dell'array **a** (esempio [1,2,3] diventa [3,2,1]) .  Dividi l'array **a** per l'array **c**. Fai la stessa cosa per una lista."
   ]
  },
  {
   "cell_type": "code",
   "execution_count": 19,
   "metadata": {},
   "outputs": [
    {
     "name": "stdout",
     "output_type": "stream",
     "text": [
      "[1 2 3 4 5]\n",
      "[1 2 3]\n",
      "[5 4 3 2 1]\n",
      "[0.2 0.5 1.  2.  5. ]\n"
     ]
    }
   ],
   "source": [
    "import numpy as np\n",
    "a = np.arange(1, 6)\n",
    "b = a[:3]\n",
    "c = a[::-1]\n",
    "d= a/c\n",
    "print(a)\n",
    "print(b)\n",
    "print(c)\n",
    "print(d)"
   ]
  }
 ],
 "metadata": {
  "kernelspec": {
   "display_name": ".conda",
   "language": "python",
   "name": "python3"
  },
  "language_info": {
   "codemirror_mode": {
    "name": "ipython",
    "version": 3
   },
   "file_extension": ".py",
   "mimetype": "text/x-python",
   "name": "python",
   "nbconvert_exporter": "python",
   "pygments_lexer": "ipython3",
   "version": "3.11.11"
  }
 },
 "nbformat": 4,
 "nbformat_minor": 2
}
