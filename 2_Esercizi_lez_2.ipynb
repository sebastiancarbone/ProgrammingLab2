{
 "cells": [
  {
   "cell_type": "markdown",
   "metadata": {},
   "source": [
    "### **1. Indicizzazione booleana**\n",
    "\n",
    "1. Creare un nuovo vettore con tutti i numeri primi tra 0 e 20. I numeri primi compresi tra 0 e 20 sono: **2, 3, 5, 7, 11, 13, 17, 19**.\n",
    "\n",
    "2. Utilizza un test logico (ad esempio `>`, `<`, `==`, `!=`) per **selezionare tutte le voci del vettore maggiori di 10**.\n",
    "\n",
    "3. Utilizza un test logico per selezionare **tutti i numeri primi pari** dalla lista.  \n"
   ]
  },
  {
   "cell_type": "code",
   "execution_count": 1,
   "metadata": {},
   "outputs": [
    {
     "name": "stdout",
     "output_type": "stream",
     "text": [
      "Numeri primi > 10: [11 13 17 19]\n",
      "Numeri primi pari: [2]\n"
     ]
    }
   ],
   "source": [
    "import numpy as np\n",
    "\n",
    "primi = np.array([2, 3, 5, 7, 11, 13, 17, 19])\n",
    "\n",
    "maggiori_di_10 = primi[primi > 10]\n",
    "print(\"Numeri primi > 10:\", maggiori_di_10)\n",
    "\n",
    "primi_pari = primi[primi % 2 == 0]\n",
    "print(\"Numeri primi pari:\", primi_pari)\n"
   ]
  },
  {
   "cell_type": "markdown",
   "metadata": {},
   "source": [
    "### **2.  Operazioni su array**\n",
    "Crea un array **a**, 2D (senza digitarlo esplicitamente), e genera due nuovi array **b**, contenente la sua 2ª e 4ª riga, e **c** contenente solo la 3ª.  Dividi ogni colonna dell'array a, elemento per elemento, con l'array c."
   ]
  },
  {
   "cell_type": "code",
   "execution_count": 2,
   "metadata": {},
   "outputs": [
    {
     "name": "stdout",
     "output_type": "stream",
     "text": [
      "Array a:\n",
      " [[ 1  2  3  4]\n",
      " [ 5  6  7  8]\n",
      " [ 9 10 11 12]\n",
      " [13 14 15 16]\n",
      " [17 18 19 20]]\n",
      "Array b (2ª e 4ª riga):\n",
      " [[ 5  6  7  8]\n",
      " [13 14 15 16]]\n",
      "Array c (3ª riga): [ 9 10 11 12]\n",
      "a / c (per colonna):\n",
      " [[0.11111111 0.2        0.27272727 0.33333333]\n",
      " [0.55555556 0.6        0.63636364 0.66666667]\n",
      " [1.         1.         1.         1.        ]\n",
      " [1.44444444 1.4        1.36363636 1.33333333]\n",
      " [1.88888889 1.8        1.72727273 1.66666667]]\n"
     ]
    }
   ],
   "source": [
    "import numpy as np\n",
    "\n",
    "a = np.arange(1, 21).reshape(5, 4)  # 5 righe, 4 colonne\n",
    "print(\"Array a:\\n\", a)\n",
    "\n",
    "b = a[[1, 3], :]\n",
    "c = a[2, :]  # riga singola\n",
    "\n",
    "print(\"Array b (2ª e 4ª riga):\\n\", b)\n",
    "print(\"Array c (3ª riga):\", c)\n",
    "\n",
    "divisione = a / c\n",
    "print(\"a / c (per colonna):\\n\", divisione)\n"
   ]
  },
  {
   "cell_type": "markdown",
   "metadata": {},
   "source": [
    "### **3. Seleziona il numero più vicino a 0.5 in un array casuale**\n",
    "Genera un array 10 x 3 con numeri casuali nell'intervallo [0,1].\n",
    "Per ogni riga, seleziona il numero più vicino a 0.5. Per farlo usa il fancy indexing."
   ]
  },
  {
   "cell_type": "code",
   "execution_count": 1,
   "metadata": {},
   "outputs": [
    {
     "name": "stdout",
     "output_type": "stream",
     "text": [
      "Array originale:\n",
      " [[0.98298123 0.0113184  0.26081321]\n",
      " [0.29998205 0.58535319 0.30641099]\n",
      " [0.72085165 0.24240613 0.8202174 ]\n",
      " [0.80547568 0.71055239 0.45548574]\n",
      " [0.98942408 0.17300635 0.65026114]\n",
      " [0.41688694 0.24010892 0.54220638]\n",
      " [0.60780618 0.49866673 0.10259677]\n",
      " [0.75993678 0.22707256 0.69539626]\n",
      " [0.67103276 0.40577366 0.49303113]\n",
      " [0.79073584 0.46911846 0.69097903]]\n",
      "\n",
      "Valori più vicini a 0.5 in ogni riga:\n",
      " [0.26081321 0.58535319 0.72085165 0.45548574 0.65026114 0.54220638\n",
      " 0.49866673 0.69539626 0.49303113 0.46911846]\n"
     ]
    }
   ],
   "source": [
    "import numpy as np\n",
    "a = np.random.rand(10, 3)\n",
    "distanze = np.abs (a - 0.5)\n",
    "indici = np.argmin(distanze, axis=1)\n",
    "piu_vicini = a[np.arange(a.shape[0]), indici]\n",
    "\n",
    "print(\"Array originale:\\n\", a)\n",
    "print(\"\\nValori più vicini a 0.5 in ogni riga:\\n\", piu_vicini)"
   ]
  },
  {
   "cell_type": "markdown",
   "metadata": {},
   "source": [
    "### **4. Analisi della Frequenza Cardiaca con NumPy**\n",
    "\n",
    "1. **Supponiamo che i seguenti valori rappresentino la tua frequenza cardiaca** registrata dal tuo Fitbit durante la giornata:  \n",
    "   `68, 65, 77, 110, 160, 161, 162, 161, 160, 161, 162, 163, 164, 163, 162, 100, 90, 97, 72, 60, 70`  \n",
    "   Inserisci questi valori in un array NumPy.\n",
    "\n",
    "2. **Trova la frequenza cardiaca minima** registrata durante la giornata.  \n",
    "   _(Questo valore rappresenta approssimativamente la tua frequenza cardiaca a riposo, un comune indicatore di salute.)_\n",
    "\n",
    "3. **Trova la frequenza cardiaca massima** registrata durante la giornata.  \n",
    "   _(Questo valore è un'indicazione dell'intensità dell'esercizio fisico.)_\n",
    "\n",
    "4. **Calcoliamo la percentuale di letture effettuate mentre stavi facendo esercizio fisico (frequenza cardiaca sopra a 120)**:  \n",
    "   - Crea un nuovo array che contiene `True` quando la frequenza cardiaca è **superiore a 120**, e `False` quando è **inferiore o uguale a 120**.\n",
    "   - Utilizza una funzione di sintesi per calcolare la percentuale di osservazioni in cui la tua frequenza cardiaca era sopra 120.\n"
   ]
  },
  {
   "cell_type": "code",
   "execution_count": 2,
   "metadata": {},
   "outputs": [
    {
     "name": "stdout",
     "output_type": "stream",
     "text": [
      "Frequenza cardiaca minima: 60 bpm\n",
      "Frequenza cardiaca massima: 164 bpm\n",
      "Percentuale del tempo in cui la frequenza era > 120 bpm: 52.38%\n"
     ]
    }
   ],
   "source": [
    "import numpy as np\n",
    "\n",
    "# 1. Inserimento dei dati\n",
    "frequenze = np.array([\n",
    "    68, 65, 77, 110, 160, 161, 162, 161, 160, 161, \n",
    "    162, 163, 164, 163, 162, 100, 90, 97, 72, 60, 70\n",
    "])\n",
    "\n",
    "# 2. Frequenza cardiaca minima\n",
    "fc_min = np.min(frequenze)\n",
    "print(\"Frequenza cardiaca minima:\", fc_min, \"bpm\")\n",
    "\n",
    "# 3. Frequenza cardiaca massima\n",
    "fc_max = np.max(frequenze)\n",
    "print(\"Frequenza cardiaca massima:\", fc_max, \"bpm\")\n",
    "\n",
    "# 4. Percentuale di tempo in esercizio (frequenza > 120)\n",
    "in_esercizio = frequenze > 120\n",
    "percentuale_esercizio = np.sum(in_esercizio) / len(frequenze) * 100\n",
    "print(f\"Percentuale del tempo in cui la frequenza era > 120 bpm: {percentuale_esercizio:.2f}%\")\n"
   ]
  },
  {
   "cell_type": "markdown",
   "metadata": {},
   "source": [
    "### **5. Manipolazione di vettori**\n",
    "\n",
    "1. Creare un vettore contenente i seguenti stipendi: **50.000, 105.250, 55.000, 89.000**.  \n",
    "Qual è il costo totale del personale (somma di tutti gli stipendi dell'azienda)?\n",
    "\n",
    "2. Supponiamo che il nostro malvagio CEO abbia deciso di darsi un aumento.  \n",
    "Modifica il vettore degli stipendi in modo che il CEO, la persona che guadagna **105.250 dollari**, riceva un aumento del **15%**.\n",
    "\n",
    "3. Il **115%** di **105.250 dollari** è **121.037,50 dollari**.  \n",
    "Questo valore è presente nel tuo array? Se no, riesci a capire il motivo?\n",
    "\n",
    "4. Ricrea il vettore e utilizza l'argomento **`dtype`** in modo che, quando il CEO riceve un aumento del **15%**, il suo stipendio finale sia esattamente **121.037,50 dollari**.\n",
    "\n",
    "5. Questo aumento ha infastidito l'impiegata con lo stipendio più basso (**50.000 dollari**), che ora pretende un aumento del **20%**.  \n",
    "Modifica il vettore per riflettere questo cambiamento.\n",
    "\n",
    "6. L'aumento dato al CEO e all'impiegata ha irritato gli altri due dipendenti, quindi ora devono ricevere un aumento del **10%**.  \n",
    "Modifica il vettore di conseguenza.\n",
    "\n",
    "7. Calcola il **costo totale del personale** dopo tutti gli aumenti.  \n",
    "Alla fine, quanto è costato all'azienda l'aumento di circa **16.000 dollari** del CEO?\n"
   ]
  },
  {
   "cell_type": "code",
   "execution_count": 4,
   "metadata": {},
   "outputs": [
    {
     "name": "stdout",
     "output_type": "stream",
     "text": [
      "1. Costo iniziale del personale: 299250 dollari\n",
      "2. Stipendi dopo aumento del CEO: [ 50000 121037  55000  89000]\n",
      "3. 121037.50 è presente nel vettore? False\n",
      "   Valore attuale CEO (con float default): 121037\n",
      "4. Valore CEO con dtype=float64: 121037.49999999999\n",
      "   121037.50 presente nel vettore? False\n",
      "5. Stipendi dopo aumento impiegata: [ 60000.  121037.5  55000.   89000. ]\n",
      "6. Stipendi dopo aumenti agli altri due: [ 60000.  121037.5  60500.   97900. ]\n",
      "7. Costo totale dopo tutti gli aumenti: 339437.5 dollari\n",
      "   Aumento effettivo del CEO: 15787.5 dollari\n"
     ]
    }
   ],
   "source": [
    "import numpy as np\n",
    "\n",
    "# 1. Vettore stipendi iniziali\n",
    "stipendi = np.array([50000, 105250, 55000, 89000])\n",
    "print(\"1. Costo iniziale del personale:\", np.sum(stipendi), \"dollari\")\n",
    "\n",
    "# 2. Aumento del 15% per il CEO (stipendio 105250)\n",
    "index_ceo = np.where(stipendi == 105250)[0][0]\n",
    "stipendi[index_ceo] *= 1.15\n",
    "print(\"2. Stipendi dopo aumento del CEO:\", stipendi)\n",
    "\n",
    "# 3. Controllo se 121037.50 è nel vettore\n",
    "print(\"3. 121037.50 è presente nel vettore?\", 121037.50 in stipendi)\n",
    "print(\"   Valore attuale CEO (con float default):\", stipendi[index_ceo])\n",
    "\n",
    "# 4. Ricreazione con dtype float64 per maggiore precisione\n",
    "stipendi = np.array([50000, 105250, 55000, 89000], dtype=np.float64)\n",
    "stipendi[np.where(stipendi == 105250)[0][0]] *= 1.15\n",
    "print(\"4. Valore CEO con dtype=float64:\", stipendi[1])\n",
    "print(\"   121037.50 presente nel vettore?\", 121037.50 in stipendi)\n",
    "\n",
    "# 5. Aumento del 20% per chi guadagna 50000\n",
    "stipendi[np.where(stipendi == 50000)[0][0]] *= 1.20\n",
    "print(\"5. Stipendi dopo aumento impiegata:\", stipendi)\n",
    "\n",
    "# 6. Aumento del 10% agli altri due dipendenti (quelli che non sono CEO né impiegata 50k)\n",
    "# Troviamo gli indici restanti\n",
    "restanti = [i for i in range(len(stipendi)) if i not in [0, 1]]  # impiegata e CEO sono [0,1]\n",
    "stipendi[restanti] *= 1.10\n",
    "print(\"6. Stipendi dopo aumenti agli altri due:\", stipendi)\n",
    "\n",
    "# 7. Costo totale finale e calcolo differenza dovuta al CEO\n",
    "costo_totale_finale = np.sum(stipendi)\n",
    "print(\"7. Costo totale dopo tutti gli aumenti:\", round(costo_totale_finale, 2), \"dollari\")\n",
    "\n",
    "# Calcolo quanto è costato in più il CEO\n",
    "aumento_ceo = stipendi[1] - 105250\n",
    "print(\"   Aumento effettivo del CEO:\", round(aumento_ceo, 2), \"dollari\")\n"
   ]
  },
  {
   "cell_type": "markdown",
   "metadata": {},
   "source": [
    "### **6. Valori di Co2**\n",
    "\n",
    "1. Carica tramite numpy il file generato e salvato a lezione sulle emissioni di CO2\n",
    "\n",
    "2. Calcola quanti valori ci CO2 sono sopra la soglia di 18  tonnellate per anno ed il loro valore medio\n",
    "\n",
    "3. Calcola la frazione totale di emissione sopra la soglia (somma totale sopra la soglia/somma totale)"
   ]
  },
  {
   "cell_type": "code",
   "execution_count": 5,
   "metadata": {},
   "outputs": [
    {
     "ename": "FileNotFoundError",
     "evalue": "emissioni_co2.txt not found.",
     "output_type": "error",
     "traceback": [
      "\u001b[1;31m---------------------------------------------------------------------------\u001b[0m",
      "\u001b[1;31mFileNotFoundError\u001b[0m                         Traceback (most recent call last)",
      "Cell \u001b[1;32mIn[5], line 5\u001b[0m\n\u001b[0;32m      1\u001b[0m \u001b[38;5;28;01mimport\u001b[39;00m \u001b[38;5;21;01mnumpy\u001b[39;00m \u001b[38;5;28;01mas\u001b[39;00m \u001b[38;5;21;01mnp\u001b[39;00m\n\u001b[0;32m      3\u001b[0m \u001b[38;5;66;03m# 1. Carica i valori di CO2 da file\u001b[39;00m\n\u001b[0;32m      4\u001b[0m \u001b[38;5;66;03m# Sostituisci 'emissioni_co2.txt' con il nome del tuo file se diverso\u001b[39;00m\n\u001b[1;32m----> 5\u001b[0m co2 \u001b[38;5;241m=\u001b[39m np\u001b[38;5;241m.\u001b[39mloadtxt(\u001b[38;5;124m'\u001b[39m\u001b[38;5;124memissioni_co2.txt\u001b[39m\u001b[38;5;124m'\u001b[39m)\n\u001b[0;32m      6\u001b[0m \u001b[38;5;28mprint\u001b[39m(\u001b[38;5;124m\"\u001b[39m\u001b[38;5;124m1. Dati caricati:\u001b[39m\u001b[38;5;124m\"\u001b[39m, co2)\n\u001b[0;32m      8\u001b[0m \u001b[38;5;66;03m# 2. Valori sopra soglia (18 tonnellate)\u001b[39;00m\n",
      "File \u001b[1;32mc:\\Users\\Admin\\Desktop\\python\\Programminglab2\\ProgrammingLab2\\.conda\\Lib\\site-packages\\numpy\\lib\\_npyio_impl.py:1395\u001b[0m, in \u001b[0;36mloadtxt\u001b[1;34m(fname, dtype, comments, delimiter, converters, skiprows, usecols, unpack, ndmin, encoding, max_rows, quotechar, like)\u001b[0m\n\u001b[0;32m   1392\u001b[0m \u001b[38;5;28;01mif\u001b[39;00m \u001b[38;5;28misinstance\u001b[39m(delimiter, \u001b[38;5;28mbytes\u001b[39m):\n\u001b[0;32m   1393\u001b[0m     delimiter \u001b[38;5;241m=\u001b[39m delimiter\u001b[38;5;241m.\u001b[39mdecode(\u001b[38;5;124m'\u001b[39m\u001b[38;5;124mlatin1\u001b[39m\u001b[38;5;124m'\u001b[39m)\n\u001b[1;32m-> 1395\u001b[0m arr \u001b[38;5;241m=\u001b[39m _read(fname, dtype\u001b[38;5;241m=\u001b[39mdtype, comment\u001b[38;5;241m=\u001b[39mcomment, delimiter\u001b[38;5;241m=\u001b[39mdelimiter,\n\u001b[0;32m   1396\u001b[0m             converters\u001b[38;5;241m=\u001b[39mconverters, skiplines\u001b[38;5;241m=\u001b[39mskiprows, usecols\u001b[38;5;241m=\u001b[39musecols,\n\u001b[0;32m   1397\u001b[0m             unpack\u001b[38;5;241m=\u001b[39munpack, ndmin\u001b[38;5;241m=\u001b[39mndmin, encoding\u001b[38;5;241m=\u001b[39mencoding,\n\u001b[0;32m   1398\u001b[0m             max_rows\u001b[38;5;241m=\u001b[39mmax_rows, quote\u001b[38;5;241m=\u001b[39mquotechar)\n\u001b[0;32m   1400\u001b[0m \u001b[38;5;28;01mreturn\u001b[39;00m arr\n",
      "File \u001b[1;32mc:\\Users\\Admin\\Desktop\\python\\Programminglab2\\ProgrammingLab2\\.conda\\Lib\\site-packages\\numpy\\lib\\_npyio_impl.py:1022\u001b[0m, in \u001b[0;36m_read\u001b[1;34m(fname, delimiter, comment, quote, imaginary_unit, usecols, skiplines, max_rows, converters, ndmin, unpack, dtype, encoding)\u001b[0m\n\u001b[0;32m   1020\u001b[0m     fname \u001b[38;5;241m=\u001b[39m os\u001b[38;5;241m.\u001b[39mfspath(fname)\n\u001b[0;32m   1021\u001b[0m \u001b[38;5;28;01mif\u001b[39;00m \u001b[38;5;28misinstance\u001b[39m(fname, \u001b[38;5;28mstr\u001b[39m):\n\u001b[1;32m-> 1022\u001b[0m     fh \u001b[38;5;241m=\u001b[39m np\u001b[38;5;241m.\u001b[39mlib\u001b[38;5;241m.\u001b[39m_datasource\u001b[38;5;241m.\u001b[39mopen(fname, \u001b[38;5;124m'\u001b[39m\u001b[38;5;124mrt\u001b[39m\u001b[38;5;124m'\u001b[39m, encoding\u001b[38;5;241m=\u001b[39mencoding)\n\u001b[0;32m   1023\u001b[0m     \u001b[38;5;28;01mif\u001b[39;00m encoding \u001b[38;5;129;01mis\u001b[39;00m \u001b[38;5;28;01mNone\u001b[39;00m:\n\u001b[0;32m   1024\u001b[0m         encoding \u001b[38;5;241m=\u001b[39m \u001b[38;5;28mgetattr\u001b[39m(fh, \u001b[38;5;124m'\u001b[39m\u001b[38;5;124mencoding\u001b[39m\u001b[38;5;124m'\u001b[39m, \u001b[38;5;124m'\u001b[39m\u001b[38;5;124mlatin1\u001b[39m\u001b[38;5;124m'\u001b[39m)\n",
      "File \u001b[1;32mc:\\Users\\Admin\\Desktop\\python\\Programminglab2\\ProgrammingLab2\\.conda\\Lib\\site-packages\\numpy\\lib\\_datasource.py:192\u001b[0m, in \u001b[0;36mopen\u001b[1;34m(path, mode, destpath, encoding, newline)\u001b[0m\n\u001b[0;32m    155\u001b[0m \u001b[38;5;250m\u001b[39m\u001b[38;5;124;03m\"\"\"\u001b[39;00m\n\u001b[0;32m    156\u001b[0m \u001b[38;5;124;03mOpen `path` with `mode` and return the file object.\u001b[39;00m\n\u001b[0;32m    157\u001b[0m \n\u001b[1;32m   (...)\u001b[0m\n\u001b[0;32m    188\u001b[0m \n\u001b[0;32m    189\u001b[0m \u001b[38;5;124;03m\"\"\"\u001b[39;00m\n\u001b[0;32m    191\u001b[0m ds \u001b[38;5;241m=\u001b[39m DataSource(destpath)\n\u001b[1;32m--> 192\u001b[0m \u001b[38;5;28;01mreturn\u001b[39;00m ds\u001b[38;5;241m.\u001b[39mopen(path, mode, encoding\u001b[38;5;241m=\u001b[39mencoding, newline\u001b[38;5;241m=\u001b[39mnewline)\n",
      "File \u001b[1;32mc:\\Users\\Admin\\Desktop\\python\\Programminglab2\\ProgrammingLab2\\.conda\\Lib\\site-packages\\numpy\\lib\\_datasource.py:529\u001b[0m, in \u001b[0;36mDataSource.open\u001b[1;34m(self, path, mode, encoding, newline)\u001b[0m\n\u001b[0;32m    526\u001b[0m     \u001b[38;5;28;01mreturn\u001b[39;00m _file_openers[ext](found, mode\u001b[38;5;241m=\u001b[39mmode,\n\u001b[0;32m    527\u001b[0m                               encoding\u001b[38;5;241m=\u001b[39mencoding, newline\u001b[38;5;241m=\u001b[39mnewline)\n\u001b[0;32m    528\u001b[0m \u001b[38;5;28;01melse\u001b[39;00m:\n\u001b[1;32m--> 529\u001b[0m     \u001b[38;5;28;01mraise\u001b[39;00m \u001b[38;5;167;01mFileNotFoundError\u001b[39;00m(\u001b[38;5;124mf\u001b[39m\u001b[38;5;124m\"\u001b[39m\u001b[38;5;132;01m{\u001b[39;00mpath\u001b[38;5;132;01m}\u001b[39;00m\u001b[38;5;124m not found.\u001b[39m\u001b[38;5;124m\"\u001b[39m)\n",
      "\u001b[1;31mFileNotFoundError\u001b[0m: emissioni_co2.txt not found."
     ]
    }
   ],
   "source": [
    "import numpy as np\n",
    "\n",
    "# 1. Carica i valori di CO2 da file\n",
    "# Sostituisci 'emissioni_co2.txt' con il nome del tuo file se diverso\n",
    "co2 = np.loadtxt('emissioni_co2.txt')\n",
    "print(\"1. Dati caricati:\", co2)\n",
    "\n",
    "# 2. Valori sopra soglia (18 tonnellate)\n",
    "sopra_soglia = co2[co2 > 18]\n",
    "conteggio_sopra = sopra_soglia.size\n",
    "media_sopra = np.mean(sopra_soglia)\n",
    "print(f\"\\n2. Valori sopra 18 tonnellate: {conteggio_sopra}\")\n",
    "print(f\"   Valore medio sopra soglia: {media_sopra:.2f} tonnellate/anno\")\n",
    "\n",
    "# 3. Frazione delle emissioni sopra la soglia\n",
    "frazione_sopra = np.sum(sopra_soglia) / np.sum(co2)\n",
    "print(f\"\\n3. Frazione totale delle emissioni sopra soglia: {frazione_sopra:.4f}\")\n"
   ]
  },
  {
   "cell_type": "markdown",
   "metadata": {},
   "source": [
    "### **7. Analisi di una matrice**\n",
    "Data la matrice survey con età, reddito e anni di istruzione\n",
    "\n",
    "survey_matrix = np.array([\n",
    "    [25, 40000, 10],\n",
    "    [32, 52000, 12],\n",
    "    [40, 63000, 14],\n",
    "    [29, 47000, 11],\n",
    "    [35, 58000, 13]\n",
    "])\n",
    "\n",
    "\n",
    "1. Seleziona dalla matrice solo gli intervistati con **almeno 12 anni di istruzione** utilizzando un test logico.\n",
    "\n",
    "2. In un'unica riga di codice, seleziona i **redditi** degli intervistati con **almeno 12 anni di istruzione**.\n",
    "\n",
    "3. In un'unica riga di codice, calcola il **reddito medio** degli intervistati con **almeno 12 anni di istruzione**.\n"
   ]
  },
  {
   "cell_type": "code",
   "execution_count": 6,
   "metadata": {},
   "outputs": [
    {
     "name": "stdout",
     "output_type": "stream",
     "text": [
      "1. Intervistati con almeno 12 anni di istruzione:\n",
      " [[   32 52000    12]\n",
      " [   40 63000    14]\n",
      " [   35 58000    13]]\n",
      "\n",
      "2. Redditi di chi ha almeno 12 anni di istruzione: [52000 63000 58000]\n",
      "\n",
      "3. Reddito medio (>=12 anni istruzione): 57666.67\n"
     ]
    }
   ],
   "source": [
    "import numpy as np\n",
    "\n",
    "# Matrice survey: [età, reddito, anni di istruzione]\n",
    "survey_matrix = np.array([\n",
    "    [25, 40000, 10],\n",
    "    [32, 52000, 12],\n",
    "    [40, 63000, 14],\n",
    "    [29, 47000, 11],\n",
    "    [35, 58000, 13]\n",
    "])\n",
    "\n",
    "# 1. Seleziona solo gli intervistati con almeno 12 anni di istruzione\n",
    "istruzione_almeno_12 = survey_matrix[survey_matrix[:, 2] >= 12]\n",
    "print(\"1. Intervistati con almeno 12 anni di istruzione:\\n\", istruzione_almeno_12)\n",
    "\n",
    "# 2. Seleziona i redditi degli intervistati con almeno 12 anni di istruzione\n",
    "redditi_12plus = survey_matrix[survey_matrix[:, 2] >= 12][:, 1]\n",
    "print(\"\\n2. Redditi di chi ha almeno 12 anni di istruzione:\", redditi_12plus)\n",
    "\n",
    "# 3. Calcola il reddito medio degli intervistati con almeno 12 anni di istruzione\n",
    "reddito_medio = np.mean(redditi_12plus)\n",
    "print(\"\\n3. Reddito medio (>=12 anni istruzione):\", round(reddito_medio, 2))\n"
   ]
  },
  {
   "cell_type": "markdown",
   "metadata": {},
   "source": []
  },
  {
   "cell_type": "markdown",
   "metadata": {},
   "source": [
    "### **8. Rimpiazzare gli outliers**\n",
    "\n",
    "Vediamo se possiamo ripulire alcuni dati mancanti. Immagina di essere il responsabile dei registri di un comune locale con **500 cittadini** di **55 anni e oltre**.  \n",
    "\n",
    "La città è famosa per la sua longevità e un team di ricercatori ti ha chiesto di identificare **il cittadino più anziano**.  \n",
    "\n",
    "Il problema è che, occasionalmente, nei registri si verificano errori e in quei casi viene inserita l'età **999** invece dell'età corretta.  \n",
    "\n",
    "Rimuovi i dati errati dall'array e determina l'età del cittadino più anziano.\n"
   ]
  },
  {
   "cell_type": "code",
   "execution_count": 7,
   "metadata": {},
   "outputs": [
    {
     "name": "stdout",
     "output_type": "stream",
     "text": [
      "Numero di dati iniziali: 500\n",
      "Numero di dati corretti: 486\n",
      "Età del cittadino più anziano: 112\n"
     ]
    }
   ],
   "source": [
    "import numpy as np\n",
    "\n",
    "# Array già fornito\n",
    "ages = np.array([92, 108, 75, 63, 62, 66, 90, 98, 97, 92, 60, 107, 90, 71, 97, 86, 55, 55,\n",
    "                 98, 57, 96, 104, 96, 94, 72, 98, 111, 98, 89, 69, 77, 92, 85, 101, 93, 100,\n",
    "                 90, 101, 96, 98, 999, 87, 106, 86, 108, 55, 67, 65, 68, 59, 67, 72, 57, 79,\n",
    "                 95, 67, 86, 70, 91, 111, 67, 75, 59, 88, 90, 99, 94, 65, 111, 103, 100, 70,\n",
    "                 63, 65, 100, 110, 999, 70, 57, 75, 56, 104, 111, 90, 74, 100, 90, 86, 88, 99,\n",
    "                 58, 103, 88, 103, 64, 96, 105, 89, 83, 65, 100, 62, 73, 105, 83, 105, 58, 96,\n",
    "                 77, 74, 95, 109, 91, 101, 91, 999, 63, 111, 97, 108, 75, 77, 73, 58, 94, 83,\n",
    "                 90, 61, 110, 107, 105, 85, 64, 66, 71, 107, 105, 72, 78, 66, 100, 102, 72, 999,\n",
    "                 74, 68, 73, 72, 90, 93, 99, 55, 92, 83, 58, 71, 89, 75, 98, 87, 999, 78,\n",
    "                 97, 71, 106, 83, 58, 81, 100, 72, 93, 70, 65, 60, 95, 107, 94, 77, 87, 90,\n",
    "                 82, 56, 99, 107, 86, 56, 73, 96, 64, 69, 64, 92, 57, 104, 110, 69, 66, 68,\n",
    "                 84, 89, 72, 80, 55, 75, 87, 57, 106, 69, 66, 62, 102, 76, 111, 999, 96, 83,\n",
    "                 84, 61, 102, 63, 107, 63, 76, 58, 83, 58, 61, 71, 77, 90, 74, 100, 103, 74,\n",
    "                 92, 102, 63, 87, 93, 61, 63, 86, 74, 98, 64, 999, 78, 95, 84, 81, 107, 85,\n",
    "                 79, 82, 89, 65, 107, 57, 74, 77, 97, 92, 58, 96, 105, 60, 55, 74, 57, 80,\n",
    "                 62, 85, 87, 62, 999, 71, 74, 70, 97, 59, 82, 96, 105, 70, 89, 105, 60, 70,\n",
    "                 87, 999, 64, 108, 107, 104, 85, 95, 108, 74, 64, 97, 89, 88, 79, 67, 81, 92,\n",
    "                 63, 80, 76, 94, 104, 67, 73, 61, 99, 96, 68, 90, 86, 79, 85, 111, 75, 98,\n",
    "                 81, 111, 108, 103, 85, 72, 108, 102, 999, 64, 107, 112, 66, 93, 89, 78, 66, 92,\n",
    "                 63, 101, 92, 64, 72, 56, 71, 64, 87, 78, 107, 85, 109, 95, 69, 111, 64, 72,\n",
    "                 55, 66, 99, 57, 78, 55, 58, 90, 88, 71, 90, 103, 92, 98, 67, 97, 77, 68,\n",
    "                 77, 59, 78, 69, 77, 81, 61, 99, 999, 85, 78, 104, 97, 95, 74, 70, 69, 83,\n",
    "                 68, 68, 77, 60, 85, 82, 93, 66, 71, 62, 64, 107, 999, 65, 78, 59, 83, 67,\n",
    "                 108,  58,  95, 106,  83,  79,  67,  59,  96,  90,  55,  55,  96, 109,  82,  55, 101,  58,\n",
    "                 97, 77, 60, 81, 999, 81, 75, 100, 66, 65, 105, 94, 101, 56, 999, 59, 105, 59,\n",
    "                 93, 56, 104, 74, 81, 62, 76, 65, 107, 60, 107, 98, 77, 86, 83, 104, 74, 69,\n",
    "                 97, 80, 91, 56, 108, 87, 65, 91, 93, 60, 91, 110, 107, 88, 96, 70, 60, 99,\n",
    "                 66, 91, 107, 65, 81, 109, 84, 106, 80, 92, 78, 84, 91, 59])\n",
    "\n",
    "# 1. Rimuovi i valori errati (999)\n",
    "ages_clean = ages[ages != 999]\n",
    "\n",
    "# 2. Trova l'età del cittadino più anziano (senza outliers)\n",
    "piu_anziano = np.max(ages_clean)\n",
    "\n",
    "# 3. Output\n",
    "print(\"Numero di dati iniziali:\", ages.size)\n",
    "print(\"Numero di dati corretti:\", ages_clean.size)\n",
    "print(\"Età del cittadino più anziano:\", piu_anziano)\n",
    "\n",
    "\n",
    "\n",
    "\n"
   ]
  },
  {
   "cell_type": "markdown",
   "metadata": {},
   "source": [
    "### 9.**Generazione random di storie**\n",
    "\n",
    "Usando la lista qui sotto, estrai casualmente **5 parole con reinserimento** (cioè, i duplicati sono ammessi).  \n",
    "\n",
    "Successivamente, inserisci casualmente queste parole negli spazi vuoti (indicati con \"_\") nella seguente frase:\n",
    "\n",
    "*\"In epoche passate, viveva una donna saggia che era molto orgogliosa dell'antico __ che proteggeva. Quando un anziano del villaggio venne a chiederle consiglio su come garantire al meglio un raccolto abbondante e le offrì il __ come dono, i suoi occhi si spalancarono e lei esclamò una sola parola, \"__\".  \n",
    "Radunò il villaggio e, per i successivi 100 giorni, su sua richiesta, gli abitanti cercarono nella foresta un __.  \n",
    "Nel 101° giorno, il bambino più giovane del villaggio trovò ciò che stavano cercando e tutti corsero dalla donna saggia per donarglielo.  \n",
    "Con un sorriso da un orecchio all’altro, e cantando canti di festa, la donna saggia guardò i suoi compaesani e disse: \"Ora è giunto il tempo del banchetto - nessuno rimarrà mai più senza _!\" Ci fu grande gioia e celebrazione.\"*\n"
   ]
  },
  {
   "cell_type": "code",
   "execution_count": 9,
   "metadata": {},
   "outputs": [
    {
     "name": "stdout",
     "output_type": "stream",
     "text": [
      "\n",
      "In epoche passate, viveva una donna saggia che era molto orgogliosa dell'antico IGNORANZA che proteggeva. \n",
      "Quando un anziano del villaggio venne a chiederle consiglio su come garantire al meglio un raccolto abbondante \n",
      "e le offrì il DEPOSITO come dono, i suoi occhi si spalancarono e lei esclamò una sola parola, \"HOT DOG\".  \n",
      "\n",
      "Radunò il villaggio e, per i successivi 100 giorni, su sua richiesta, gli abitanti cercarono nella foresta un BENEFICIARIO. \n",
      "Nel 101° giorno, il bambino più giovane del villaggio trovò ciò che stavano cercando e tutti corsero dalla donna saggia per donarglielo. \n",
      "\n",
      "Con un sorriso da un orecchio all’altro, e cantando canti di festa, la donna saggia guardò i suoi compaesani e disse: \n",
      "\"Ora è giunto il tempo del banchetto - nessuno rimarrà mai più senza BIOGRAFIA!\"  \n",
      "\n",
      "Ci fu grande gioia e celebrazione.\n",
      "\n"
     ]
    }
   ],
   "source": [
    "import numpy as np\n",
    "\n",
    "# Lista di parole fornite\n",
    "lista_parole = [\n",
    "    'INSEDIAMENTO', 'SEPARAZIONE', 'DIFFERENZA', 'APPLICAZIONE', 'ATTEGGIAMENTO', 'VERDURA', 'IMPERO', 'RICEVIMENTO',\n",
    "    'IGNORANZA', 'BIOGRAFIA', 'VISIONE', 'AGENTE DI POLIZIA', 'PROVA', 'PRESTAZIONE', 'PRESENTAZIONE', 'PARENTE',\n",
    "    'GIUSTIFICAZIONE', 'FILOSOFIA', 'DIREZIONE', 'BENEFICIARIO', 'BATTERIA', 'CERIMONIA', 'AGONIA', 'RECUPERO',\n",
    "    'ALFABETIZZAZIONE', 'CONSEGNA', 'SERBATOIO', 'VOLONTARIO', 'DEPOSITO', 'BIRILLO DA BOWLING', 'NEMICO', 'ANNUNCIO',\n",
    "    'CARAMELLA ZUCCHERATA', 'FULMINE', 'PALLONCINO', 'COPERTA', 'SCOPERTA', 'PENALITÀ', 'GENERALE', 'ALPACA',\n",
    "    'VANTAGGIO', 'HOT DOG', 'ABITO', 'MATEMATICA', 'VARIANTE'\n",
    "]\n",
    "\n",
    "# Estrai 5 parole con reinserimento\n",
    "parole_estratte = np.random.choice(lista_parole, size=5, replace=True)\n",
    "\n",
    "# Frase con gli spazi riempiti\n",
    "frase = f\"\"\"\n",
    "In epoche passate, viveva una donna saggia che era molto orgogliosa dell'antico {parole_estratte[0]} che proteggeva. \n",
    "Quando un anziano del villaggio venne a chiederle consiglio su come garantire al meglio un raccolto abbondante \n",
    "e le offrì il {parole_estratte[1]} come dono, i suoi occhi si spalancarono e lei esclamò una sola parola, \"{parole_estratte[2]}\".  \n",
    "\n",
    "Radunò il villaggio e, per i successivi 100 giorni, su sua richiesta, gli abitanti cercarono nella foresta un {parole_estratte[3]}. \n",
    "Nel 101° giorno, il bambino più giovane del villaggio trovò ciò che stavano cercando e tutti corsero dalla donna saggia per donarglielo. \n",
    "\n",
    "Con un sorriso da un orecchio all’altro, e cantando canti di festa, la donna saggia guardò i suoi compaesani e disse: \n",
    "\"Ora è giunto il tempo del banchetto - nessuno rimarrà mai più senza {parole_estratte[4]}!\"  \n",
    "\n",
    "Ci fu grande gioia e celebrazione.\n",
    "\"\"\"\n",
    "\n",
    "# Output della storia generata\n",
    "print(frase)\n",
    "\n"
   ]
  },
  {
   "cell_type": "code",
   "execution_count": null,
   "metadata": {},
   "outputs": [
    {
     "ename": "NameError",
     "evalue": "name 'lista_parole' is not defined",
     "output_type": "error",
     "traceback": [
      "\u001b[1;31m---------------------------------------------------------------------------\u001b[0m",
      "\u001b[1;31mNameError\u001b[0m                                 Traceback (most recent call last)",
      "Cell \u001b[1;32mIn[8], line 4\u001b[0m\n\u001b[0;32m      1\u001b[0m \u001b[38;5;28;01mimport\u001b[39;00m \u001b[38;5;21;01mnumpy\u001b[39;00m \u001b[38;5;28;01mas\u001b[39;00m \u001b[38;5;21;01mnp\u001b[39;00m\n\u001b[0;32m      3\u001b[0m \u001b[38;5;66;03m# Estrai 5 parole con reinserimento\u001b[39;00m\n\u001b[1;32m----> 4\u001b[0m parole_estratte \u001b[38;5;241m=\u001b[39m np\u001b[38;5;241m.\u001b[39mrandom\u001b[38;5;241m.\u001b[39mchoice(lista_parole, size\u001b[38;5;241m=\u001b[39m\u001b[38;5;241m5\u001b[39m, replace\u001b[38;5;241m=\u001b[39m\u001b[38;5;28;01mTrue\u001b[39;00m)\n\u001b[0;32m      6\u001b[0m \u001b[38;5;66;03m# Frase con gli spazi riempiti\u001b[39;00m\n\u001b[0;32m      7\u001b[0m frase \u001b[38;5;241m=\u001b[39m \u001b[38;5;124mf\u001b[39m\u001b[38;5;124m\"\"\"\u001b[39m\n\u001b[0;32m      8\u001b[0m \u001b[38;5;124mIn epoche passate, viveva una donna saggia che era molto orgogliosa dell\u001b[39m\u001b[38;5;124m'\u001b[39m\u001b[38;5;124mantico \u001b[39m\u001b[38;5;132;01m{\u001b[39;00mparole_estratte[\u001b[38;5;241m0\u001b[39m]\u001b[38;5;132;01m}\u001b[39;00m\u001b[38;5;124m che proteggeva. \u001b[39m\n\u001b[0;32m      9\u001b[0m \u001b[38;5;124mQuando un anziano del villaggio venne a chiederle consiglio su come garantire al meglio un raccolto abbondante \u001b[39m\n\u001b[1;32m   (...)\u001b[0m\n\u001b[0;32m     18\u001b[0m \u001b[38;5;124mCi fu grande gioia e celebrazione.\u001b[39m\n\u001b[0;32m     19\u001b[0m \u001b[38;5;124m\"\"\"\u001b[39m\n",
      "\u001b[1;31mNameError\u001b[0m: name 'lista_parole' is not defined"
     ]
    }
   ],
   "source": [
    "\n"
   ]
  },
  {
   "cell_type": "markdown",
   "metadata": {},
   "source": [
    "Esempio di output\n",
    "\n",
    "\n",
    "\"In epoche passate, viveva una donna saggia che era molto orgogliosa dell'antico APPLICAZIONE che proteggeva. \n",
    "Quando un anziano del villaggio venne a chiederle consiglio su come garantire al meglio un raccolto abbondante \n",
    "e le offrì il DEPOSITO come dono, i suoi occhi si spalancarono e lei esclamò una sola parola, \"PRESTAZIONE\".  \n",
    "\n",
    "Radunò il villaggio e, per i successivi 100 giorni, su sua richiesta, gli abitanti cercarono nella foresta un BIRILLO DA BOWLING. \n",
    "Nel 101° giorno, il bambino più giovane del villaggio trovò ciò che stavano cercando e tutti corsero dalla donna saggia per donarglielo. \n",
    "Con un sorriso da un orecchio all’altro, e cantando canti di festa, la donna saggia guardò i suoi compaesani e disse: \n",
    "\"Ora è giunto il tempo del banchetto - nessuno rimarrà mai più senza GIUSTIFICAZIONE!\"  \n",
    "\n",
    "Ci fu grande gioia e celebrazione.\""
   ]
  },
  {
   "cell_type": "code",
   "execution_count": null,
   "metadata": {},
   "outputs": [],
   "source": []
  }
 ],
 "metadata": {
  "kernelspec": {
   "display_name": ".conda",
   "language": "python",
   "name": "python3"
  },
  "language_info": {
   "codemirror_mode": {
    "name": "ipython",
    "version": 3
   },
   "file_extension": ".py",
   "mimetype": "text/x-python",
   "name": "python",
   "nbconvert_exporter": "python",
   "pygments_lexer": "ipython3",
   "version": "3.11.11"
  }
 },
 "nbformat": 4,
 "nbformat_minor": 2
}
